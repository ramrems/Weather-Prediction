{
 "cells": [
  {
   "cell_type": "markdown",
   "id": "1efbe16a-ed69-4484-99fa-19a37b31edc1",
   "metadata": {},
   "source": [
    "# 1. Install Dependencies and Setup"
   ]
  },
  {
   "cell_type": "code",
   "execution_count": null,
   "id": "c187aa0b-3b02-44d9-8bc1-8273ea824681",
   "metadata": {
    "tags": []
   },
   "outputs": [],
   "source": [
    "pip install tensorflow  opencv-python matplotlib"
   ]
  },
  {
   "cell_type": "code",
   "execution_count": null,
   "id": "73784294-a357-44b9-adf8-0fe203072975",
   "metadata": {
    "tags": []
   },
   "outputs": [],
   "source": [
    "pip install -U scikit-learn scipy matplotlib"
   ]
  },
  {
   "cell_type": "code",
   "execution_count": null,
   "id": "7a573177-177b-4d69-af80-40b6f8c086a7",
   "metadata": {
    "tags": []
   },
   "outputs": [],
   "source": [
    "!pip install seaborn"
   ]
  },
  {
   "cell_type": "code",
   "execution_count": null,
   "id": "af29ab9c-92bb-4a6b-b64f-a7f0ea92b44e",
   "metadata": {
    "tags": []
   },
   "outputs": [],
   "source": [
    "!pip list"
   ]
  },
  {
   "cell_type": "code",
   "execution_count": null,
   "id": "368a6185-cc86-43d7-b9d8-d769aa082884",
   "metadata": {
    "tags": []
   },
   "outputs": [],
   "source": [
    "import tensorflow as tf\n",
    "import os"
   ]
  },
  {
   "cell_type": "markdown",
   "id": "7557f035-04f9-4dbf-b66f-ccd8eef83952",
   "metadata": {
    "tags": []
   },
   "source": [
    "# 2. Remove dodgy images"
   ]
  },
  {
   "cell_type": "code",
   "execution_count": null,
   "id": "aca809c1-ced3-4758-a718-81de3706ab27",
   "metadata": {
    "tags": []
   },
   "outputs": [],
   "source": [
    "import cv2\n",
    "import imghdr"
   ]
  },
  {
   "cell_type": "code",
   "execution_count": null,
   "id": "ab3c08b4-af3b-4d30-8720-a5412e5b1e7e",
   "metadata": {
    "tags": []
   },
   "outputs": [],
   "source": [
    "data_dir = 'D:\\ImageClassification\\data' "
   ]
  },
  {
   "cell_type": "code",
   "execution_count": null,
   "id": "047e5072-79a8-4758-8ed0-ae3d8c30630f",
   "metadata": {
    "tags": []
   },
   "outputs": [],
   "source": [
    "image_exts = ['jpeg','jpg', 'bmp', 'png']"
   ]
  },
  {
   "cell_type": "code",
   "execution_count": null,
   "id": "19802bdb-3e37-4f4d-9ec6-7be744569437",
   "metadata": {
    "tags": []
   },
   "outputs": [],
   "source": [
    "for image_class in os.listdir(data_dir): \n",
    "    for image in os.listdir(os.path.join(data_dir, image_class)):\n",
    "        image_path = os.path.join(data_dir, image_class, image)\n",
    "        try: \n",
    "            img = cv2.imread(image_path)\n",
    "            tip = imghdr.what(image_path)\n",
    "            if tip not in image_exts: \n",
    "                print('Image not in ext list {}'.format(image_path))\n",
    "                os.remove(image_path)\n",
    "        except Exception as e: \n",
    "            print('Issue with image {}'.format(image_path))\n",
    "            # os.remove(image_path)"
   ]
  },
  {
   "cell_type": "markdown",
   "id": "8bf048e9-4157-4608-887e-510ba4cd91a4",
   "metadata": {
    "tags": []
   },
   "source": [
    "# 3. Load Data"
   ]
  },
  {
   "cell_type": "code",
   "execution_count": null,
   "id": "f8f7535e-9378-4b2f-86f8-694d3a22d83f",
   "metadata": {
    "tags": []
   },
   "outputs": [],
   "source": [
    "import numpy as np "
   ]
  },
  {
   "cell_type": "code",
   "execution_count": null,
   "id": "9f150670-6e9e-4c0b-8561-c43de79e34bb",
   "metadata": {
    "tags": []
   },
   "outputs": [],
   "source": [
    "import tensorflow as tf\n",
    "import matplotlib.pyplot as plt\n",
    "\n",
    "data_dir = 'D:\\ImageClassification\\data'\n",
    "class_labels = ['cloudy', 'dew', 'fogsmog', 'glaze', 'hail', 'lightining', 'rain', 'rainbow', 'rime','shine', 'snow', 'sunrise']\n",
    "\n",
    "# Veri kümesini oluştur\n",
    "data = tf.keras.utils.image_dataset_from_directory(data_dir)\n",
    "\n",
    "# Veri kümesinin bir örnek batch'ini alma\n",
    "batch = next(iter(data))\n",
    "\n",
    "# Batch içindeki görüntüler ve etiketler\n",
    "images, labels = batch\n",
    "\n",
    "# Her bir sınıf için ilk görüntüyü gösterme\n",
    "for class_index, class_label in enumerate(class_labels):\n",
    "    class_indices = tf.where(labels == class_index).numpy().flatten()\n",
    "    if len(class_indices) > 0:\n",
    "        image_for_class = images[class_indices[0]]\n",
    "        plt.imshow(image_for_class.numpy().astype(int))\n",
    "        plt.title(f'Class: {class_label}')\n",
    "        plt.show()\n"
   ]
  },
  {
   "cell_type": "code",
   "execution_count": null,
   "id": "726086b5-5de7-4b57-bf1d-07e7184e9b7a",
   "metadata": {
    "tags": []
   },
   "outputs": [],
   "source": [
    "data_iterator = data.as_numpy_iterator()"
   ]
  },
  {
   "cell_type": "code",
   "execution_count": null,
   "id": "51b6db9e-db35-44d6-87eb-e928ad4f9cb0",
   "metadata": {
    "tags": []
   },
   "outputs": [],
   "source": [
    "batch = data_iterator.next()"
   ]
  },
  {
   "cell_type": "code",
   "execution_count": null,
   "id": "b4e728ee-3aee-4672-80a6-79e66506bbff",
   "metadata": {
    "tags": []
   },
   "outputs": [],
   "source": [
    "#2 satır 6 sütün şeklinde rastgele 12 veriyi gösterme\n",
    "fig, ax = plt.subplots(nrows=2, ncols=6, figsize=(20, 6))\n",
    "\n",
    "# Veri kümesinden 12 resmi gösterme\n",
    "for i in range(2):\n",
    "    for j in range(6):\n",
    "        img_index = i * 6 + j\n",
    "        if img_index < 12:\n",
    "            ax[i, j].imshow(batch[0][img_index].astype(int))\n",
    "            ax[i, j].title.set_text(batch[1][img_index])\n",
    "\n",
    "plt.show()\n"
   ]
  },
  {
   "cell_type": "markdown",
   "id": "d56881dd-02e8-47c9-961e-56d3a813c928",
   "metadata": {
    "tags": []
   },
   "source": [
    "# 4. Scale Data"
   ]
  },
  {
   "cell_type": "code",
   "execution_count": null,
   "id": "51d56ba3-ffcd-47a1-993d-80c0785962b0",
   "metadata": {
    "tags": []
   },
   "outputs": [],
   "source": [
    "from tensorflow.keras.utils import to_categorical"
   ]
  },
  {
   "cell_type": "code",
   "execution_count": null,
   "id": "22aaed15-9332-4af9-9bfd-250e688804d6",
   "metadata": {
    "tags": []
   },
   "outputs": [],
   "source": [
    "# Veri setini normalize etme ve one-hot encoding uygulama\n",
    "data = data.map(lambda x, y: (x / 255, tf.one_hot(y, depth=12)))\n"
   ]
  },
  {
   "cell_type": "markdown",
   "id": "3bf0d517-2136-46af-822b-20e342d36d50",
   "metadata": {},
   "source": [
    "# 5. Split Data"
   ]
  },
  {
   "cell_type": "code",
   "execution_count": null,
   "id": "92cda4de-6485-41ff-acf7-3b9c92e3bb4b",
   "metadata": {
    "tags": []
   },
   "outputs": [],
   "source": [
    "train_size = int(len(data)*0.7)\n",
    "val_size = int(len(data)*.2)\n",
    "test_size = int(len(data)*.1)"
   ]
  },
  {
   "cell_type": "code",
   "execution_count": null,
   "id": "d3ff46df-60a8-4db8-82b0-1d24c605719d",
   "metadata": {
    "tags": []
   },
   "outputs": [],
   "source": [
    "print(train_size)\n",
    "print(val_size)\n",
    "print(test_size)"
   ]
  },
  {
   "cell_type": "code",
   "execution_count": null,
   "id": "ec6327fa-d535-4519-94d5-2808c15aa4be",
   "metadata": {
    "tags": []
   },
   "outputs": [],
   "source": [
    "train = data.take(train_size)\n",
    "val = data.skip(train_size).take(val_size)\n",
    "test = data.skip(train_size+val_size).take(test_size)"
   ]
  },
  {
   "cell_type": "code",
   "execution_count": null,
   "id": "8d85dd82-df5b-4a1c-80a6-5d8bb308ea47",
   "metadata": {
    "tags": []
   },
   "outputs": [],
   "source": [
    "from collections import Counter\n",
    "class_labels = ['cloudy', 'dew', 'fogsmog', 'glaze', 'hail', 'lightining', 'rain', 'rainbow', 'rime', 'shine', 'snow', 'sunrise']\n",
    "\n",
    "# Train setindeki sınıfların örnek sayıları\n",
    "train_class_counts = Counter([class_labels[np.argmax(label.numpy())] for _, label in train])\n",
    "\n",
    "# Test setindeki sınıfların örnek sayıları\n",
    "test_class_counts = Counter([class_labels[np.argmax(label.numpy())] for _, label in test])\n",
    "\n",
    "print(\"Train seti sınıf örnek sayıları:\")\n",
    "print(train_class_counts)\n",
    "\n",
    "print(\"\\nTest seti sınıf örnek sayıları:\")\n",
    "print(test_class_counts)\n"
   ]
  },
  {
   "cell_type": "markdown",
   "id": "6613475f-5f94-4ba5-b484-96ca73b70346",
   "metadata": {},
   "source": [
    "# 6. Build Deep Learning Model"
   ]
  },
  {
   "cell_type": "code",
   "execution_count": null,
   "id": "a97405f3-a7eb-4488-bf3c-15658da436af",
   "metadata": {
    "tags": []
   },
   "outputs": [],
   "source": [
    "from tensorflow.keras.models import Sequential\n",
    "from tensorflow.keras.layers import Conv2D, MaxPooling2D, Dense, Flatten, Dropout,BatchNormalization"
   ]
  },
  {
   "cell_type": "code",
   "execution_count": null,
   "id": "e44d0871-8e88-4c74-83c3-71be5fe25a3b",
   "metadata": {
    "tags": []
   },
   "outputs": [],
   "source": [
    "num_classes = 12 # Toplam sınıf sayısı\n"
   ]
  },
  {
   "cell_type": "code",
   "execution_count": null,
   "id": "066b7759-32d4-4695-9e10-bb71fe952b33",
   "metadata": {
    "tags": []
   },
   "outputs": [],
   "source": [
    "input_shape = (256, 256, 3)\n",
    "num_classes = 12\n",
    "\n",
    "model = Sequential()\n",
    "\n",
    "# Convolutional Block 1\n",
    "model.add(Conv2D(96, (11, 11), strides=(4, 4), input_shape=input_shape, activation='relu'))\n",
    "model.add(MaxPooling2D(pool_size=(3, 3), strides=(2, 2)))\n",
    "model.add(BatchNormalization())\n",
    "\n",
    "# Convolutional Block 2\n",
    "model.add(Conv2D(256, (5, 5), padding='same', activation='relu'))\n",
    "model.add(MaxPooling2D(pool_size=(3, 3), strides=(2, 2)))\n",
    "model.add(BatchNormalization())\n",
    "\n",
    "# Convolutional Block 3\n",
    "model.add(Conv2D(384, (3, 3), padding='same', activation='relu'))\n",
    "model.add(BatchNormalization())\n",
    "\n",
    "# Convolutional Block 4\n",
    "model.add(Conv2D(384, (3, 3), padding='same', activation='relu'))\n",
    "model.add(BatchNormalization())\n",
    "\n",
    "# Convolutional Block 5\n",
    "model.add(Conv2D(256, (3, 3), padding='same', activation='relu'))\n",
    "model.add(MaxPooling2D(pool_size=(3, 3), strides=(2, 2)))\n",
    "model.add(BatchNormalization())\n",
    "\n",
    "# Flatten and Dense Layers\n",
    "model.add(Flatten())\n",
    "model.add(Dense(4096, activation='relu'))\n",
    "model.add(Dropout(0.5))\n",
    "\n",
    "model.add(Dense(4096, activation='relu'))\n",
    "model.add(Dropout(0.5))\n",
    "\n",
    "# Output layer\n",
    "model.add(Dense(num_classes, activation='softmax'))\n",
    "\n",
    "# Print the model summary\n",
    "model.summary()"
   ]
  },
  {
   "cell_type": "code",
   "execution_count": null,
   "id": "0cf56579-5fba-46fd-b1a3-2ca2cb5e7832",
   "metadata": {
    "tags": []
   },
   "outputs": [],
   "source": [
    "model.compile('adam', loss=tf.losses.CategoricalCrossentropy(), metrics=['accuracy'])"
   ]
  },
  {
   "cell_type": "markdown",
   "id": "313b73ff-3d36-47f5-8c6a-90b5a2999ebe",
   "metadata": {
    "tags": []
   },
   "source": [
    "# 7. Train"
   ]
  },
  {
   "cell_type": "code",
   "execution_count": null,
   "id": "21b1717a-9c99-4397-a0da-17b9202e4838",
   "metadata": {
    "tags": []
   },
   "outputs": [],
   "source": [
    "from tensorflow.keras.callbacks import EarlyStopping\n",
    "from tensorflow.keras.preprocessing.image import ImageDataGenerator"
   ]
  },
  {
   "cell_type": "code",
   "execution_count": null,
   "id": "a0bccaf4-cc27-4e49-8a08-818f1e0a1be0",
   "metadata": {
    "tags": []
   },
   "outputs": [],
   "source": [
    "logdir='logs'"
   ]
  },
  {
   "cell_type": "code",
   "execution_count": null,
   "id": "f499bab3-380c-4850-9635-e425e946f968",
   "metadata": {
    "tags": []
   },
   "outputs": [],
   "source": [
    "tensorboard_callback = tf.keras.callbacks.TensorBoard(log_dir=logdir)"
   ]
  },
  {
   "cell_type": "code",
   "execution_count": null,
   "id": "d77df1b3-4ee5-40a2-ad60-7c67fe420d4f",
   "metadata": {
    "tags": []
   },
   "outputs": [],
   "source": [
    "early_stopping = EarlyStopping(monitor='val_loss', patience=5, restore_best_weights=True)"
   ]
  },
  {
   "cell_type": "code",
   "execution_count": null,
   "id": "40e9342d-5bd8-4eb4-af6b-7fb22a77cbfe",
   "metadata": {
    "scrolled": true,
    "tags": []
   },
   "outputs": [],
   "source": [
    "hist = model.fit(train, epochs=50, validation_data=val,  callbacks=[tensorboard_callback, early_stopping])"
   ]
  },
  {
   "cell_type": "code",
   "execution_count": null,
   "id": "fa3089ec-e06b-4613-8d5e-4ae4ac446e1a",
   "metadata": {
    "tags": []
   },
   "outputs": [],
   "source": [
    "from keras.callbacks import TensorBoard\n",
    "import time\n",
    "kerasboard = TensorBoard(log_dir=\"/tmp/tensorboard/{}\".format(time),\n",
    "                        batch_size=32,\n",
    "                        histogram_freq=1,\n",
    "                        write_grads=True)"
   ]
  },
  {
   "cell_type": "code",
   "execution_count": null,
   "id": "c9dd7135-c859-4284-843b-1470c75f531a",
   "metadata": {
    "tags": []
   },
   "outputs": [],
   "source": [
    "print(\"tensorboard --logdir=\"+kerasboard.log_dir)"
   ]
  },
  {
   "cell_type": "markdown",
   "id": "21a0058a-9ea1-4e8f-b365-27a6c1771e28",
   "metadata": {
    "tags": []
   },
   "source": [
    "# 8. Plot Performance"
   ]
  },
  {
   "cell_type": "code",
   "execution_count": null,
   "id": "5b9cd36a-86ce-4946-b588-d84d14ead79b",
   "metadata": {
    "tags": []
   },
   "outputs": [],
   "source": [
    "fig = plt.figure()\n",
    "plt.plot(hist.history['loss'], color='teal', label='loss')\n",
    "plt.plot(hist.history['val_loss'], color='orange', label='val_loss')\n",
    "fig.suptitle('Loss', fontsize=20)\n",
    "plt.legend(loc=\"upper left\")\n",
    "plt.show()"
   ]
  },
  {
   "cell_type": "code",
   "execution_count": null,
   "id": "ed8c8efb-7b08-41cc-86d8-11dd50e406f8",
   "metadata": {
    "tags": []
   },
   "outputs": [],
   "source": [
    "fig = plt.figure()\n",
    "plt.plot(hist.history['accuracy'], color='teal', label='accuracy')\n",
    "plt.plot(hist.history['val_accuracy'], color='orange', label='val_accuracy')\n",
    "fig.suptitle('Accuracy', fontsize=20)\n",
    "plt.legend(loc=\"upper left\")\n",
    "plt.show()"
   ]
  },
  {
   "cell_type": "markdown",
   "id": "dcc6d1ec-cfa6-4c05-b68a-acbea92e5e0d",
   "metadata": {},
   "source": [
    "# 9. Evaluate"
   ]
  },
  {
   "cell_type": "code",
   "execution_count": null,
   "id": "33402e7e-0d70-4afb-a7ad-d0247ccf710e",
   "metadata": {
    "tags": []
   },
   "outputs": [],
   "source": [
    "from tensorflow.keras.metrics import Precision, Recall, CategoricalAccuracy,Accuracy\n",
    "from tensorflow.keras.utils import to_categorical"
   ]
  },
  {
   "cell_type": "code",
   "execution_count": null,
   "id": "ae92d9a7-3c99-46c0-af34-a5227c8d37e4",
   "metadata": {
    "tags": []
   },
   "outputs": [],
   "source": [
    "model.load_weights('D:\\ImageClassification\\models\\h.h5')"
   ]
  },
  {
   "cell_type": "code",
   "execution_count": null,
   "id": "b20f96ba-37a8-4a41-a352-18019aeef97c",
   "metadata": {
    "tags": []
   },
   "outputs": [],
   "source": [
    "pre = Precision()\n",
    "re = Recall()\n",
    "acc = CategoricalAccuracy()\n",
    "\n",
    "# Reset states to clear previous values\n",
    "pre.reset_states()\n",
    "re.reset_states()\n",
    "acc.reset_states()\n",
    "\n",
    "# Evaluate the model on the validation dataset\n",
    "for inputs, targets in val:\n",
    "    predictions = model(inputs)\n",
    "    pre.update_state(targets, predictions)\n",
    "    re.update_state(targets, predictions)\n",
    "    acc.update_state(targets, predictions)\n",
    "\n",
    "# Get the final values\n",
    "precision_value = pre.result().numpy()\n",
    "recall_value = re.result().numpy()\n",
    "accuracy_value = acc.result().numpy()\n",
    "\n",
    "# Print the values\n",
    "print(f'Precision: {precision_value}')\n",
    "print(f'Recall: {recall_value}')\n",
    "print(f'Categorical Accuracy: {accuracy_value}')"
   ]
  },
  {
   "cell_type": "code",
   "execution_count": null,
   "id": "439cae03-e3e0-40a5-9f1c-5aa9a3dd2ac3",
   "metadata": {
    "tags": []
   },
   "outputs": [],
   "source": [
    "num_classes =12\n",
    "precisions = [Precision() for _ in range(num_classes)]\n",
    "recalls = [Recall() for _ in range(num_classes)]\n",
    "accuracies = [CategoricalAccuracy() for _ in range(num_classes)]\n",
    "f1_scores = []\n",
    "# Reset states to clear previous values\n",
    "for metric in precisions + recalls + accuracies:\n",
    "    metric.reset_states()\n",
    "\n",
    "# Evaluate the model on the validation dataset\n",
    "for inputs, targets in val:\n",
    "    predictions = model(inputs)\n",
    "\n",
    "    # Update metrics for each class\n",
    "    for i in range(num_classes):\n",
    "        precisions[i].update_state(targets[:, i], predictions[:, i])\n",
    "        recalls[i].update_state(targets[:, i], predictions[:, i])\n",
    "        accuracies[i].update_state(targets[:, i], predictions[:, i])\n",
    "\n",
    "# Print the final values for each class\n",
    "for i in range(num_classes):\n",
    "    precision_value = precisions[i].result().numpy()\n",
    "    recall_value = recalls[i].result().numpy()\n",
    "    accuracy_value = accuracies[i].result().numpy()\n",
    "    \n",
    "    f1_score_value = 2 * (precision_value * recall_value) / (precision_value + recall_value + 1e-8)\n",
    "    f1_scores.append(f1_score_value)\n",
    "\n",
    "\n",
    "    print(f'Class {i + 1}: Precision: {precision_value}, Recall: {recall_value}, Accuracy: {accuracy_value}, F1 Score: {f1_score_value}')\n",
    "    \n",
    "# Calculate and print the overall F1 Score\n",
    "overall_f1_score = sum(f1_scores) / num_classes\n",
    "print(f'Overall F1 Score: {overall_f1_score}')"
   ]
  },
  {
   "cell_type": "code",
   "execution_count": null,
   "id": "719a96e7-c7b2-4427-b8a4-40cf55d5293e",
   "metadata": {
    "tags": []
   },
   "outputs": [],
   "source": [
    "test = data.skip(train_size + val_size).take(test_size)"
   ]
  },
  {
   "cell_type": "code",
   "execution_count": null,
   "id": "0638da7e-223e-487d-acbe-353088c8e559",
   "metadata": {
    "tags": []
   },
   "outputs": [],
   "source": [
    "accuracy_metric = Accuracy()\n",
    "\n",
    "for batch in test.as_numpy_iterator(): \n",
    "    X, y = batch\n",
    "    yhat = model.predict(X)\n",
    "    acc.update_state(y, yhat)\n",
    "    accuracy_metric.update_state(tf.argmax(y, axis=1), tf.argmax(yhat, axis=1))\n",
    "\n",
    "\n",
    "test_accuracy = accuracy_metric.result().numpy()\n",
    "print(f'Test Accuracy: {test_accuracy}')"
   ]
  },
  {
   "cell_type": "markdown",
   "id": "ef27d507-9728-4ae6-b790-7cd02c7ffc1e",
   "metadata": {},
   "source": [
    "# 10. Test"
   ]
  },
  {
   "cell_type": "code",
   "execution_count": null,
   "id": "fb60379f-81d9-44cc-a201-a4401cf68a21",
   "metadata": {
    "tags": []
   },
   "outputs": [],
   "source": [
    "import matplotlib.pyplot as plt"
   ]
  },
  {
   "cell_type": "code",
   "execution_count": null,
   "id": "b5fb262f-168e-41ac-940b-717df808b434",
   "metadata": {
    "tags": []
   },
   "outputs": [],
   "source": [
    "# Görüntüyü okuma ve uygun formatta yükleme\n",
    "img = cv2.imread('denemeVeri/my5.jpg')\n",
    "\n",
    "# Görüntü boş mu kontrolü\n",
    "if img is not None:\n",
    "    img = cv2.cvtColor(img, cv2.COLOR_BGR2RGB)  # OpenCV, görüntüyü BGR formatında okur, bu nedenle RGB'ye dönüştürüyoruz\n",
    "\n",
    "    # Görüntüyü gösterme\n",
    "    plt.imshow(img)\n",
    "    plt.show()\n",
    "else:\n",
    "    print(\"Görüntü yüklenemedi.\")\n",
    "    \n",
    "\n",
    "if img is not None:\n",
    "    img = cv2.cvtColor(img, cv2.COLOR_BGR2RGB)\n",
    "    resize = tf.image.resize(img, (256, 256))\n",
    "    resize = np.expand_dims(resize / 255, 0)  \n",
    "\n",
    "else:\n",
    "    print(f\"Error: Unable to read the image at {img_path}\")\n",
    "    \n",
    "class_names = ['cloudy', 'dew', 'fogsmog', 'glaze', 'hail', 'lightning', 'rain', 'rainbow', 'rime', 'shine', 'snow', 'sunrise']\n",
    "predictions = model.predict(resize)\n",
    "predicted_class = np.argmax(predictions, axis=-1)\n",
    "\n",
    "# Print some debug information\n",
    "print(f'Predicted class indices: {predicted_class}')\n",
    "if 0 <= predicted_class[0] < len(class_names):\n",
    "    predicted_class_label = class_names[predicted_class[0]]\n",
    "    print(f'Predicted class: {predicted_class_label}')\n",
    "else:\n",
    "    print('Error: Predicted class index is out of range.')\n",
    "\n",
    "# Print class probabilities\n",
    "for i, prob in enumerate(predictions[0]):\n",
    "    class_label = class_names[i]\n",
    "    print(f'Probability for class {class_label}: {prob}')\n",
    "\n"
   ]
  },
  {
   "cell_type": "code",
   "execution_count": null,
   "id": "1f2138cd-5dc5-453f-b83d-8cd737c80c54",
   "metadata": {
    "tags": []
   },
   "outputs": [],
   "source": [
    "# Görüntüyü okuma ve uygun formatta yükleme\n",
    "img = cv2.imread('denemeVeri/benimCektigim2.jpg')\n",
    "\n",
    "# Görüntü boş mu kontrolü\n",
    "if img is not None:\n",
    "    img = cv2.cvtColor(img, cv2.COLOR_BGR2RGB)  # OpenCV, görüntüyü BGR formatında okur, bu nedenle RGB'ye dönüştürüyoruz\n",
    "\n",
    "    # Görüntüyü gösterme\n",
    "    plt.imshow(img)\n",
    "    plt.show()\n",
    "else:\n",
    "    print(\"Görüntü yüklenemedi.\")"
   ]
  },
  {
   "cell_type": "code",
   "execution_count": null,
   "id": "f6c58e2b-3d07-4836-9553-e59343656f2b",
   "metadata": {
    "tags": []
   },
   "outputs": [],
   "source": [
    "img_path = 'denemeVeri/my8.jpg'\n",
    "img = cv2.imread(img_path)\n",
    "\n",
    "if img is not None:\n",
    "    img = cv2.cvtColor(img, cv2.COLOR_BGR2RGB)\n",
    "    resize = tf.image.resize(img, (256, 256))\n",
    "    resize = np.expand_dims(resize / 255, 0)  \n",
    "\n",
    "else:\n",
    "    print(f\"Error: Unable to read the image at {img_path}\")\n"
   ]
  },
  {
   "cell_type": "code",
   "execution_count": null,
   "id": "77652b97-6677-4491-b092-090741c18042",
   "metadata": {
    "tags": []
   },
   "outputs": [],
   "source": [
    "class_names = ['cloudy', 'dew', 'fogsmog', 'glaze', 'hail', 'lightning', 'rain', 'rainbow', 'rime', 'shine', 'snow', 'sunrise']\n",
    "predictions = model.predict(resize)\n",
    "predicted_class = np.argmax(predictions, axis=-1)\n",
    "\n",
    "# Print some debug information\n",
    "print(f'Predicted class indices: {predicted_class}')\n",
    "if 0 <= predicted_class[0] < len(class_names):\n",
    "    predicted_class_label = class_names[predicted_class[0]]\n",
    "    print(f'Predicted class: {predicted_class_label}')\n",
    "else:\n",
    "    print('Error: Predicted class index is out of range.')\n",
    "\n",
    "# Print class probabilities\n",
    "for i, prob in enumerate(predictions[0]):\n",
    "    class_label = class_names[i]\n",
    "    print(f'Probability for class {class_label}: {prob}')\n"
   ]
  },
  {
   "cell_type": "markdown",
   "id": "5cb87a3a-65f0-4b9a-bd24-5d5ad5afc67e",
   "metadata": {
    "tags": []
   },
   "source": [
    "# 11. Save the Model"
   ]
  },
  {
   "cell_type": "code",
   "execution_count": null,
   "id": "976840ef-aa6d-49d9-8ec4-6bf7591b52e4",
   "metadata": {
    "tags": []
   },
   "outputs": [],
   "source": [
    "from tensorflow.keras.models import load_model"
   ]
  },
  {
   "cell_type": "code",
   "execution_count": null,
   "id": "6a063966-d63f-4fe5-b5cf-96bd72a1bad1",
   "metadata": {
    "tags": []
   },
   "outputs": [],
   "source": [
    "model.save(os.path.join('models','h.h5'))"
   ]
  },
  {
   "cell_type": "code",
   "execution_count": null,
   "id": "eaa5ed4c-6c59-47c3-8cf1-1bb3cee7e452",
   "metadata": {
    "tags": []
   },
   "outputs": [],
   "source": [
    "new_model = load_model('D:\\ImageClassification\\models\\h.h5')"
   ]
  },
  {
   "cell_type": "markdown",
   "id": "53cabe06-3282-462c-8428-3ec148432adb",
   "metadata": {
    "tags": []
   },
   "source": [
    "# 12. Confusion Matrix"
   ]
  },
  {
   "cell_type": "code",
   "execution_count": null,
   "id": "5276509b-0230-449b-bde6-cc9588b26e79",
   "metadata": {
    "tags": []
   },
   "outputs": [],
   "source": [
    "# Confusion Matrix oluşturma ve çizme\n",
    "from sklearn.metrics import confusion_matrix\n",
    "import seaborn as sns\n",
    "import pandas as pd\n",
    "\n",
    "# Test veri seti üzerinde tahminlerin ve gerçek etiketlerin toplanması\n",
    "y_true = []\n",
    "y_pred = []\n",
    "\n",
    "for batch in test.as_numpy_iterator():\n",
    "    X, y = batch\n",
    "    yhat = model.predict(X)\n",
    "    \n",
    "    # Sınıf indekslerini listeler içinde ekleyin\n",
    "    y_true.append([np.argmax(label) for label in y])\n",
    "    y_pred.append([np.argmax(pred) for pred in yhat])\n",
    "\n",
    "# Listeleri numpy dizilerine çevirme\n",
    "y_true = np.concatenate(y_true)\n",
    "y_pred = np.concatenate(y_pred)\n",
    "\n",
    "# Confusion Matrix oluşturma\n",
    "conf_mat = confusion_matrix(y_true, y_pred)\n",
    "\n",
    "# Sınıf isimleri\n",
    "class_names = ['cloudy', 'dew', 'fogsmog', 'glaze', 'hail', 'lightning', 'rain', 'rainbow', 'rime', 'shine', 'snow', 'sunrise']\n",
    "\n",
    "# Pandas DataFrame'e dönüştürme\n",
    "conf_mat_df = pd.DataFrame(conf_mat, index=class_names, columns=class_names)\n",
    "\n",
    "# Confusion Matrix'i çizme\n",
    "plt.figure(figsize=(12, 10))\n",
    "sns.heatmap(conf_mat_df, annot=True, fmt='g', cmap='Blues', cbar_kws={'label': 'Count'})\n",
    "plt.title('Confusion Matrix')\n",
    "plt.xlabel('Predicted')\n",
    "plt.ylabel('True')\n",
    "plt.show()\n",
    "\n",
    "\n",
    "\n"
   ]
  },
  {
   "cell_type": "markdown",
   "id": "903eb410-59e6-4eaa-9210-10f1c08050e7",
   "metadata": {
    "tags": []
   },
   "source": [
    "# Realtime"
   ]
  },
  {
   "cell_type": "code",
   "execution_count": null,
   "id": "7c4d49e3-d6c4-401c-a728-0c3b576674c3",
   "metadata": {
    "tags": []
   },
   "outputs": [],
   "source": [
    "import cv2\n",
    "import numpy as np\n",
    "from tensorflow.keras.applications.vgg16 import preprocess_input\n",
    "import time\n",
    "\n",
    "# 1. New detection variables\n",
    "sequence = []\n",
    "sentence = []\n",
    "threshold = 0.8\n",
    "sequence_length = 1\n",
    "\n",
    "# [10,1,224,224,3]-needed input shape\n",
    "cap = cv2.VideoCapture(0)\n",
    "\n",
    "# Süreyi beklemek için kullanılacak zaman aralığı (saniye cinsinden)\n",
    "wait_interval = 0.1\n",
    "\n",
    "# Önceki tahminin başlangıçta tanımlanması\n",
    "previous_prediction = None\n",
    "\n",
    "while cap.isOpened():\n",
    "    # Read feed\n",
    "    ret, frame = cap.read()\n",
    "\n",
    "    # Resize the frame to match the model's expected sizing\n",
    "    resized_frame = cv2.resize(frame, (256, 256))\n",
    "\n",
    "    # Preprocess the frame for the model\n",
    "    input_data = preprocess_input(np.expand_dims(resized_frame, axis=0))\n",
    "\n",
    "    # Update the sequence with the preprocessed frame\n",
    "    sequence.append(input_data)\n",
    "\n",
    "    # Eğer belirlenen saniye aralığına ulaşıldıysa işlem yap\n",
    "    if len(sequence) == sequence_length:\n",
    "        sequence = np.array(sequence)\n",
    "\n",
    "        # Remove the singleton dimension\n",
    "        sequence = np.squeeze(sequence, axis=1)\n",
    "\n",
    "        # Doğrudan modeli çağırın ve tahmin alın\n",
    "        res = model.predict(sequence)\n",
    "        current_prediction = class_names[np.argmax(res)]\n",
    "\n",
    "        # Eğer önceki tahminden farklıysa güncelle\n",
    "        if current_prediction != previous_prediction:\n",
    "            print(current_prediction)\n",
    "\n",
    "        # Güncelleme yapıldıktan sonra ekrandaki etiketi güncelle\n",
    "        sentence = [current_prediction]\n",
    "\n",
    "        # Görsel olarak etiketi belirtmek için metni ayarla\n",
    "        text = ' '.join(sentence)\n",
    "        font = cv2.FONT_HERSHEY_SIMPLEX\n",
    "        org = (10, 30)\n",
    "        font_scale = 1\n",
    "        coloqr = (0, 0, 255)  # Kırmızı renk (BGR formatında)\n",
    "        thickness = 2\n",
    "        frame = cv2.putText(frame, text, org, font, font_scale, color, thickness, cv2.LINE_AA)\n",
    "\n",
    "        # Show the frame\n",
    "        cv2.imshow('OpenCV Feed', frame)\n",
    "\n",
    "        # Bekleme süresi kadar uyku\n",
    "        time.sleep(wait_interval)\n",
    "\n",
    "        # Reset the sequence for the next predictions\n",
    "        sequence = []\n",
    "\n",
    "        # Güncelleme yapıldıktan sonra önceki tahmini güncelle\n",
    "        previous_prediction = current_prediction\n",
    "\n",
    "    # Break gracefully\n",
    "    if cv2.waitKey(10) & 0xFF == ord('q'):\n",
    "        break\n",
    "\n",
    "cap.release()\n",
    "cv2.destroyAllWindows()\n"
   ]
  }
 ],
 "metadata": {
  "kernelspec": {
   "display_name": "imageclasskernel",
   "language": "python",
   "name": "imageclasskernel"
  },
  "language_info": {
   "name": ""
  }
 },
 "nbformat": 4,
 "nbformat_minor": 5
}
