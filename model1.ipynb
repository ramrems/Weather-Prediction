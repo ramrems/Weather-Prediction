{
 "cells": [
  {
   "cell_type": "code",
   "execution_count": 98,
   "id": "5677b7a3-c76d-449e-ab35-d5a88d488837",
   "metadata": {
    "collapsed": true,
    "jupyter": {
     "outputs_hidden": true
    },
    "tags": []
   },
   "outputs": [
    {
     "name": "stdout",
     "output_type": "stream",
     "text": [
      "Requirement already satisfied: tensorflow in d:\\imageclassification\\imageclasskernel\\lib\\site-packages (2.11.0)\n",
      "Requirement already satisfied: opencv-python in d:\\imageclassification\\imageclasskernel\\lib\\site-packages (4.8.1.78)\n",
      "Requirement already satisfied: matplotlib in d:\\imageclassification\\imageclasskernel\\lib\\site-packages (3.5.3)\n",
      "Requirement already satisfied: tensorflow-intel==2.11.0; platform_system == \"Windows\" in d:\\imageclassification\\imageclasskernel\\lib\\site-packages (from tensorflow) (2.11.0)\n",
      "Requirement already satisfied: numpy>=1.17.0; python_version >= \"3.7\" in d:\\imageclassification\\imageclasskernel\\lib\\site-packages (from opencv-python) (1.21.6)\n",
      "Requirement already satisfied: python-dateutil>=2.7 in d:\\imageclassification\\imageclasskernel\\lib\\site-packages (from matplotlib) (2.8.2)\n",
      "Requirement already satisfied: kiwisolver>=1.0.1 in d:\\imageclassification\\imageclasskernel\\lib\\site-packages (from matplotlib) (1.4.5)\n",
      "Requirement already satisfied: pyparsing>=2.2.1 in d:\\imageclassification\\imageclasskernel\\lib\\site-packages (from matplotlib) (3.1.1)\n",
      "Requirement already satisfied: packaging>=20.0 in d:\\imageclassification\\imageclasskernel\\lib\\site-packages (from matplotlib) (23.2)\n",
      "Requirement already satisfied: pillow>=6.2.0 in d:\\imageclassification\\imageclasskernel\\lib\\site-packages (from matplotlib) (9.5.0)\n",
      "Requirement already satisfied: fonttools>=4.22.0 in d:\\imageclassification\\imageclasskernel\\lib\\site-packages (from matplotlib) (4.38.0)\n",
      "Requirement already satisfied: cycler>=0.10 in d:\\imageclassification\\imageclasskernel\\lib\\site-packages (from matplotlib) (0.11.0)\n",
      "Requirement already satisfied: tensorboard<2.12,>=2.11 in d:\\imageclassification\\imageclasskernel\\lib\\site-packages (from tensorflow-intel==2.11.0; platform_system == \"Windows\"->tensorflow) (2.11.2)\n",
      "Requirement already satisfied: absl-py>=1.0.0 in d:\\imageclassification\\imageclasskernel\\lib\\site-packages (from tensorflow-intel==2.11.0; platform_system == \"Windows\"->tensorflow) (2.0.0)\n",
      "Requirement already satisfied: tensorflow-io-gcs-filesystem>=0.23.1; platform_machine != \"arm64\" or platform_system != \"Darwin\" in d:\\imageclassification\\imageclasskernel\\lib\\site-packages (from tensorflow-intel==2.11.0; platform_system == \"Windows\"->tensorflow) (0.31.0)\n",
      "Requirement already satisfied: wrapt>=1.11.0 in d:\\imageclassification\\imageclasskernel\\lib\\site-packages (from tensorflow-intel==2.11.0; platform_system == \"Windows\"->tensorflow) (1.16.0)\n",
      "Requirement already satisfied: termcolor>=1.1.0 in d:\\imageclassification\\imageclasskernel\\lib\\site-packages (from tensorflow-intel==2.11.0; platform_system == \"Windows\"->tensorflow) (2.3.0)\n",
      "Requirement already satisfied: gast<=0.4.0,>=0.2.1 in d:\\imageclassification\\imageclasskernel\\lib\\site-packages (from tensorflow-intel==2.11.0; platform_system == \"Windows\"->tensorflow) (0.4.0)\n",
      "Requirement already satisfied: opt-einsum>=2.3.2 in d:\\imageclassification\\imageclasskernel\\lib\\site-packages (from tensorflow-intel==2.11.0; platform_system == \"Windows\"->tensorflow) (3.3.0)\n",
      "Requirement already satisfied: google-pasta>=0.1.1 in d:\\imageclassification\\imageclasskernel\\lib\\site-packages (from tensorflow-intel==2.11.0; platform_system == \"Windows\"->tensorflow) (0.2.0)\n",
      "Requirement already satisfied: grpcio<2.0,>=1.24.3 in d:\\imageclassification\\imageclasskernel\\lib\\site-packages (from tensorflow-intel==2.11.0; platform_system == \"Windows\"->tensorflow) (1.60.0)\n",
      "Requirement already satisfied: setuptools in d:\\imageclassification\\imageclasskernel\\lib\\site-packages (from tensorflow-intel==2.11.0; platform_system == \"Windows\"->tensorflow) (47.1.0)\n",
      "Requirement already satisfied: libclang>=13.0.0 in d:\\imageclassification\\imageclasskernel\\lib\\site-packages (from tensorflow-intel==2.11.0; platform_system == \"Windows\"->tensorflow) (16.0.6)\n",
      "Requirement already satisfied: tensorflow-estimator<2.12,>=2.11.0 in d:\\imageclassification\\imageclasskernel\\lib\\site-packages (from tensorflow-intel==2.11.0; platform_system == \"Windows\"->tensorflow) (2.11.0)\n",
      "Requirement already satisfied: astunparse>=1.6.0 in d:\\imageclassification\\imageclasskernel\\lib\\site-packages (from tensorflow-intel==2.11.0; platform_system == \"Windows\"->tensorflow) (1.6.3)\n",
      "Requirement already satisfied: typing-extensions>=3.6.6 in d:\\imageclassification\\imageclasskernel\\lib\\site-packages (from tensorflow-intel==2.11.0; platform_system == \"Windows\"->tensorflow) (4.7.1)\n",
      "Requirement already satisfied: flatbuffers>=2.0 in d:\\imageclassification\\imageclasskernel\\lib\\site-packages (from tensorflow-intel==2.11.0; platform_system == \"Windows\"->tensorflow) (23.5.26)\n",
      "Requirement already satisfied: six>=1.12.0 in d:\\imageclassification\\imageclasskernel\\lib\\site-packages (from tensorflow-intel==2.11.0; platform_system == \"Windows\"->tensorflow) (1.16.0)\n",
      "Requirement already satisfied: h5py>=2.9.0 in d:\\imageclassification\\imageclasskernel\\lib\\site-packages (from tensorflow-intel==2.11.0; platform_system == \"Windows\"->tensorflow) (3.8.0)\n",
      "Requirement already satisfied: keras<2.12,>=2.11.0 in d:\\imageclassification\\imageclasskernel\\lib\\site-packages (from tensorflow-intel==2.11.0; platform_system == \"Windows\"->tensorflow) (2.11.0)\n",
      "Requirement already satisfied: protobuf<3.20,>=3.9.2 in d:\\imageclassification\\imageclasskernel\\lib\\site-packages (from tensorflow-intel==2.11.0; platform_system == \"Windows\"->tensorflow) (3.19.6)\n",
      "Requirement already satisfied: tensorboard-data-server<0.7.0,>=0.6.0 in d:\\imageclassification\\imageclasskernel\\lib\\site-packages (from tensorboard<2.12,>=2.11->tensorflow-intel==2.11.0; platform_system == \"Windows\"->tensorflow) (0.6.1)\n",
      "Requirement already satisfied: google-auth-oauthlib<0.5,>=0.4.1 in d:\\imageclassification\\imageclasskernel\\lib\\site-packages (from tensorboard<2.12,>=2.11->tensorflow-intel==2.11.0; platform_system == \"Windows\"->tensorflow) (0.4.6)\n",
      "Requirement already satisfied: wheel>=0.26 in d:\\imageclassification\\imageclasskernel\\lib\\site-packages (from tensorboard<2.12,>=2.11->tensorflow-intel==2.11.0; platform_system == \"Windows\"->tensorflow) (0.42.0)\n",
      "Requirement already satisfied: tensorboard-plugin-wit>=1.6.0 in d:\\imageclassification\\imageclasskernel\\lib\\site-packages (from tensorboard<2.12,>=2.11->tensorflow-intel==2.11.0; platform_system == \"Windows\"->tensorflow) (1.8.1)\n",
      "Requirement already satisfied: google-auth<3,>=1.6.3 in d:\\imageclassification\\imageclasskernel\\lib\\site-packages (from tensorboard<2.12,>=2.11->tensorflow-intel==2.11.0; platform_system == \"Windows\"->tensorflow) (2.25.2)\n",
      "Requirement already satisfied: werkzeug>=1.0.1 in d:\\imageclassification\\imageclasskernel\\lib\\site-packages (from tensorboard<2.12,>=2.11->tensorflow-intel==2.11.0; platform_system == \"Windows\"->tensorflow) (2.2.3)\n",
      "Requirement already satisfied: requests<3,>=2.21.0 in d:\\imageclassification\\imageclasskernel\\lib\\site-packages (from tensorboard<2.12,>=2.11->tensorflow-intel==2.11.0; platform_system == \"Windows\"->tensorflow) (2.31.0)\n",
      "Requirement already satisfied: markdown>=2.6.8 in d:\\imageclassification\\imageclasskernel\\lib\\site-packages (from tensorboard<2.12,>=2.11->tensorflow-intel==2.11.0; platform_system == \"Windows\"->tensorflow) (3.4.4)\n",
      "Requirement already satisfied: requests-oauthlib>=0.7.0 in d:\\imageclassification\\imageclasskernel\\lib\\site-packages (from google-auth-oauthlib<0.5,>=0.4.1->tensorboard<2.12,>=2.11->tensorflow-intel==2.11.0; platform_system == \"Windows\"->tensorflow) (1.3.1)\n",
      "Requirement already satisfied: rsa<5,>=3.1.4 in d:\\imageclassification\\imageclasskernel\\lib\\site-packages (from google-auth<3,>=1.6.3->tensorboard<2.12,>=2.11->tensorflow-intel==2.11.0; platform_system == \"Windows\"->tensorflow) (4.9)\n",
      "Requirement already satisfied: cachetools<6.0,>=2.0.0 in d:\\imageclassification\\imageclasskernel\\lib\\site-packages (from google-auth<3,>=1.6.3->tensorboard<2.12,>=2.11->tensorflow-intel==2.11.0; platform_system == \"Windows\"->tensorflow) (5.3.2)\n",
      "Requirement already satisfied: pyasn1-modules>=0.2.1 in d:\\imageclassification\\imageclasskernel\\lib\\site-packages (from google-auth<3,>=1.6.3->tensorboard<2.12,>=2.11->tensorflow-intel==2.11.0; platform_system == \"Windows\"->tensorflow) (0.3.0)\n",
      "Requirement already satisfied: MarkupSafe>=2.1.1 in d:\\imageclassification\\imageclasskernel\\lib\\site-packages (from werkzeug>=1.0.1->tensorboard<2.12,>=2.11->tensorflow-intel==2.11.0; platform_system == \"Windows\"->tensorflow) (2.1.3)\n",
      "Requirement already satisfied: idna<4,>=2.5 in d:\\imageclassification\\imageclasskernel\\lib\\site-packages (from requests<3,>=2.21.0->tensorboard<2.12,>=2.11->tensorflow-intel==2.11.0; platform_system == \"Windows\"->tensorflow) (3.6)\n",
      "Requirement already satisfied: urllib3<3,>=1.21.1 in d:\\imageclassification\\imageclasskernel\\lib\\site-packages (from requests<3,>=2.21.0->tensorboard<2.12,>=2.11->tensorflow-intel==2.11.0; platform_system == \"Windows\"->tensorflow) (2.0.7)\n",
      "Requirement already satisfied: certifi>=2017.4.17 in d:\\imageclassification\\imageclasskernel\\lib\\site-packages (from requests<3,>=2.21.0->tensorboard<2.12,>=2.11->tensorflow-intel==2.11.0; platform_system == \"Windows\"->tensorflow) (2023.11.17)\n",
      "Requirement already satisfied: charset-normalizer<4,>=2 in d:\\imageclassification\\imageclasskernel\\lib\\site-packages (from requests<3,>=2.21.0->tensorboard<2.12,>=2.11->tensorflow-intel==2.11.0; platform_system == \"Windows\"->tensorflow) (3.3.2)\n",
      "Requirement already satisfied: importlib-metadata>=4.4; python_version < \"3.10\" in d:\\imageclassification\\imageclasskernel\\lib\\site-packages (from markdown>=2.6.8->tensorboard<2.12,>=2.11->tensorflow-intel==2.11.0; platform_system == \"Windows\"->tensorflow) (6.7.0)\n",
      "Requirement already satisfied: oauthlib>=3.0.0 in d:\\imageclassification\\imageclasskernel\\lib\\site-packages (from requests-oauthlib>=0.7.0->google-auth-oauthlib<0.5,>=0.4.1->tensorboard<2.12,>=2.11->tensorflow-intel==2.11.0; platform_system == \"Windows\"->tensorflow) (3.2.2)\n",
      "Requirement already satisfied: pyasn1>=0.1.3 in d:\\imageclassification\\imageclasskernel\\lib\\site-packages (from rsa<5,>=3.1.4->google-auth<3,>=1.6.3->tensorboard<2.12,>=2.11->tensorflow-intel==2.11.0; platform_system == \"Windows\"->tensorflow) (0.5.1)\n",
      "Requirement already satisfied: zipp>=0.5 in d:\\imageclassification\\imageclasskernel\\lib\\site-packages (from importlib-metadata>=4.4; python_version < \"3.10\"->markdown>=2.6.8->tensorboard<2.12,>=2.11->tensorflow-intel==2.11.0; platform_system == \"Windows\"->tensorflow) (3.15.0)\n",
      "Note: you may need to restart the kernel to use updated packages.\n"
     ]
    },
    {
     "name": "stderr",
     "output_type": "stream",
     "text": [
      "WARNING: You are using pip version 20.1.1; however, version 23.3.1 is available.\n",
      "You should consider upgrading via the 'D:\\ImageClassification\\imageclasskernel\\Scripts\\python.exe -m pip install --upgrade pip' command.\n"
     ]
    }
   ],
   "source": [
    "pip install tensorflow  opencv-python matplotlib"
   ]
  },
  {
   "cell_type": "code",
   "execution_count": 99,
   "id": "c7cf9873-dac2-4a61-8c63-05fa34d7f85b",
   "metadata": {
    "tags": []
   },
   "outputs": [],
   "source": [
    "import tensorflow as tf\n",
    "import os"
   ]
  },
  {
   "cell_type": "markdown",
   "id": "b1b3390a-b4a0-449f-9ee1-413439b78744",
   "metadata": {
    "tags": []
   },
   "source": [
    "# 2. Remove dodgy images"
   ]
  },
  {
   "cell_type": "code",
   "execution_count": 100,
   "id": "e002bf6b-2b97-41e4-b0ef-401153543646",
   "metadata": {
    "tags": []
   },
   "outputs": [],
   "source": [
    "import cv2\n",
    "import imghdr"
   ]
  },
  {
   "cell_type": "code",
   "execution_count": 101,
   "id": "0c00d52a-4a3c-49cb-ae86-37c742a580a5",
   "metadata": {
    "tags": []
   },
   "outputs": [],
   "source": [
    "data_dir = 'data' "
   ]
  },
  {
   "cell_type": "code",
   "execution_count": 102,
   "id": "3af282be-b857-49dd-b6d8-98020f18821b",
   "metadata": {
    "tags": []
   },
   "outputs": [],
   "source": [
    "image_exts = ['jpeg','jpg', 'bmp', 'png']"
   ]
  },
  {
   "cell_type": "code",
   "execution_count": 103,
   "id": "f0e53cd3-e6f4-426b-8d0c-b809ca2b87a4",
   "metadata": {
    "tags": []
   },
   "outputs": [],
   "source": [
    "for image_class in os.listdir(data_dir): \n",
    "    for image in os.listdir(os.path.join(data_dir, image_class)):\n",
    "        image_path = os.path.join(data_dir, image_class, image)\n",
    "        try: \n",
    "            img = cv2.imread(image_path)\n",
    "            tip = imghdr.what(image_path)\n",
    "            if tip not in image_exts: \n",
    "                print('Image not in ext list {}'.format(image_path))\n",
    "                os.remove(image_path)\n",
    "        except Exception as e: \n",
    "            print('Issue with image {}'.format(image_path))\n",
    "            # os.remove(image_path)"
   ]
  },
  {
   "cell_type": "markdown",
   "id": "1e4ac2c9-1871-4790-8be0-25b57c8e7da9",
   "metadata": {
    "tags": []
   },
   "source": [
    "# 3. Load Data"
   ]
  },
  {
   "cell_type": "code",
   "execution_count": 104,
   "id": "d3e418aa-bcbb-4fe0-bc84-e505d3233823",
   "metadata": {
    "tags": []
   },
   "outputs": [],
   "source": [
    "import numpy as np\n",
    "from matplotlib import pyplot as plt"
   ]
  },
  {
   "cell_type": "code",
   "execution_count": 105,
   "id": "56caf686-0deb-42c7-920b-b75f1afc0e7f",
   "metadata": {
    "tags": []
   },
   "outputs": [],
   "source": [
    "import os\n",
    "import tensorflow as tf\n",
    "from tensorflow.keras.preprocessing.image import load_img, img_to_array\n",
    "from sklearn.model_selection import train_test_split\n",
    "\n",
    "# Veri yolu\n",
    "data_path = \"data\"\n",
    "labels = ['cloudy', 'dew', 'fogsmog', 'frost', 'glaze', 'hail', 'lightning', 'rain', 'rainbow', 'rime','shine', 'snow', 'sunrise']\n",
    "\n",
    "image_paths = []\n",
    "class_labels = []\n",
    "\n",
    "# Her sınıf için dön\n",
    "for label in labels:\n",
    "    class_path = os.path.join(data_path, label)\n",
    "    \n",
    "    # Sınıfa ait resim dosyalarını listele\n",
    "    for filename in os.listdir(class_path):\n",
    "        img_path = os.path.join(class_path, filename)\n",
    "        image_paths.append(img_path)\n",
    "        class_labels.append(label)\n",
    "\n",
    "# Veri setini eğitim ve test olarak böl\n",
    "X_train_paths, X_test_paths, y_train, y_test = train_test_split(image_paths, class_labels, test_size=0.1, random_state=42)\n",
    "\n",
    "# TensorFlow Dataset oluştur\n",
    "def load_and_preprocess_image(img_path, label):\n",
    "    img = tf.io.read_file(img_path)\n",
    "    img = tf.image.decode_jpeg(img, channels=3)  # JPEG formatı için\n",
    "    img = tf.image.resize(img, [256, 256])\n",
    "    img = tf.cast(img, tf.float32) / 255.0  # Görüntü normalizasyonu\n",
    "    return img, label\n",
    "\n",
    "# (image, label) çiftlerini içeren bir tuple oluştur\n",
    "train_data = tf.data.Dataset.from_tensor_slices((X_train_paths, y_train))\n",
    "test_data = tf.data.Dataset.from_tensor_slices((X_test_paths, y_test))\n",
    "\n",
    "# Resim ve etiketleri yükleyip normalize et\n",
    "train_data = train_data.map(lambda x, y: load_and_preprocess_image(x, y), num_parallel_calls=tf.data.AUTOTUNE)\n",
    "test_data = test_data.map(lambda x, y: load_and_preprocess_image(x, y), num_parallel_calls=tf.data.AUTOTUNE)\n",
    "\n",
    "# Shuffle ve batch veri setini ayarla\n",
    "batch_size = 32\n",
    "train_data = train_data.shuffle(buffer_size=len(X_train_paths)).batch(batch_size)\n",
    "test_data = test_data.batch(batch_size)\n",
    "\n",
    "# Model ve cross-validation için devam edin\n"
   ]
  },
  {
   "cell_type": "code",
   "execution_count": 75,
   "id": "b3131e25-6130-4364-9eb3-c8d7eb3aba07",
   "metadata": {
    "tags": []
   },
   "outputs": [],
   "source": [
    "data_iterator = data.as_numpy_iterator()"
   ]
  },
  {
   "cell_type": "code",
   "execution_count": 76,
   "id": "17e8cc1a-c779-4bd6-a53b-298bad77cb29",
   "metadata": {
    "tags": []
   },
   "outputs": [],
   "source": [
    "batch = data_iterator.next()"
   ]
  },
  {
   "cell_type": "markdown",
   "id": "d7a9ea57-a870-4a0f-aa31-3f7d95487450",
   "metadata": {
    "jp-MarkdownHeadingCollapsed": true,
    "tags": []
   },
   "source": [
    "# 4. Scale Data"
   ]
  },
  {
   "cell_type": "code",
   "execution_count": 57,
   "id": "561fca1d-63f9-46ab-8bff-f9d47a08092a",
   "metadata": {
    "tags": []
   },
   "outputs": [],
   "source": [
    "import tensorflow as tf\n",
    "from tensorflow.keras.utils import to_categorical"
   ]
  },
  {
   "cell_type": "code",
   "execution_count": 58,
   "id": "73f7735c-28fb-440d-a7e4-234fc0a93229",
   "metadata": {
    "tags": []
   },
   "outputs": [],
   "source": [
    "# Veri setini normalize etme ve one-hot encoding uygulama\n",
    "data = data.map(lambda x, y: (x / 255, tf.one_hot(y, depth=14)))\n"
   ]
  },
  {
   "cell_type": "code",
   "execution_count": 59,
   "id": "b9e94d61-29e5-4748-9ba0-f6b31782a6cb",
   "metadata": {
    "collapsed": true,
    "jupyter": {
     "outputs_hidden": true
    },
    "tags": []
   },
   "outputs": [
    {
     "data": {
      "text/plain": [
       "(array([[[[0.10673397, 0.28309447, 0.30667892],\n",
       "          [0.11617982, 0.2893416 , 0.32279748],\n",
       "          [0.11988454, 0.29711962, 0.334038  ],\n",
       "          ...,\n",
       "          [0.10571433, 0.25473392, 0.2586555 ],\n",
       "          [0.10649654, 0.25551614, 0.26063928],\n",
       "          [0.11784045, 0.26686007, 0.2784716 ]],\n",
       " \n",
       "         [[0.09342831, 0.26380208, 0.28998497],\n",
       "          [0.1031609 , 0.27605698, 0.30912513],\n",
       "          [0.11462929, 0.28694853, 0.32496935],\n",
       "          ...,\n",
       "          [0.13543342, 0.2842735 , 0.28787196],\n",
       "          [0.11846326, 0.2670233 , 0.2707151 ],\n",
       "          [0.10123219, 0.24979225, 0.25348404]],\n",
       " \n",
       "         [[0.08120404, 0.2434283 , 0.26723298],\n",
       "          [0.08814482, 0.2556832 , 0.28284457],\n",
       "          [0.10217764, 0.26965618, 0.3006764 ],\n",
       "          ...,\n",
       "          [0.15187366, 0.2973628 , 0.2951593 ],\n",
       "          [0.10741134, 0.24858782, 0.24794155],\n",
       "          [0.07132114, 0.2124976 , 0.2119471 ]],\n",
       " \n",
       "         ...,\n",
       " \n",
       "         [[0.05258789, 0.1270977 , 0.11925456],\n",
       "          [0.06396915, 0.13847895, 0.13063581],\n",
       "          [0.06936754, 0.14387734, 0.1360342 ],\n",
       "          ...,\n",
       "          [0.13799402, 0.20073913, 0.18897443],\n",
       "          [0.14382133, 0.20656642, 0.1960272 ],\n",
       "          [0.13720608, 0.19995117, 0.1960296 ]],\n",
       " \n",
       "         [[0.05214796, 0.12665777, 0.11881462],\n",
       "          [0.05863444, 0.13314424, 0.12530111],\n",
       "          [0.05882066, 0.13333046, 0.12548733],\n",
       "          ...,\n",
       "          [0.1409395 , 0.20368461, 0.1963039 ],\n",
       "          [0.13570294, 0.19844803, 0.19471556],\n",
       "          [0.16857718, 0.23132229, 0.23109251]],\n",
       " \n",
       "         [[0.05208333, 0.12659314, 0.11875   ],\n",
       "          [0.05821078, 0.13272059, 0.12487745],\n",
       "          [0.06037119, 0.13488099, 0.12703785],\n",
       "          ...,\n",
       "          [0.13961445, 0.20235954, 0.1952517 ],\n",
       "          [0.13577235, 0.19851744, 0.19520862],\n",
       "          [0.17707424, 0.23981933, 0.23981933]]],\n",
       " \n",
       " \n",
       "        [[[0.2627451 , 0.41568628, 0.6313726 ],\n",
       "          [0.26583946, 0.41878062, 0.6344669 ],\n",
       "          [0.26666668, 0.41960785, 0.63529414],\n",
       "          ...,\n",
       "          [0.77784926, 0.8260723 , 0.89411765],\n",
       "          [0.78039217, 0.8235294 , 0.89411765],\n",
       "          [0.78039217, 0.8235294 , 0.89411765]],\n",
       " \n",
       "         [[0.2641391 , 0.41708028, 0.63276654],\n",
       "          [0.26613352, 0.41907468, 0.634761  ],\n",
       "          [0.26757059, 0.42051175, 0.63619804],\n",
       "          ...,\n",
       "          [0.77924323, 0.8274663 , 0.8955116 ],\n",
       "          [0.78178614, 0.8249234 , 0.8955116 ],\n",
       "          [0.78178614, 0.8249234 , 0.8955116 ]],\n",
       " \n",
       "         [[0.2663756 , 0.4193168 , 0.6350031 ],\n",
       "          [0.26660526, 0.41954646, 0.63523275],\n",
       "          [0.26902083, 0.421962  , 0.6376483 ],\n",
       "          ...,\n",
       "          [0.7814798 , 0.8297028 , 0.8977482 ],\n",
       "          [0.7840227 , 0.82715994, 0.8977482 ],\n",
       "          [0.7840227 , 0.82715994, 0.8977482 ]],\n",
       " \n",
       "         ...,\n",
       " \n",
       "         [[0.01597733, 0.01960784, 0.03471201],\n",
       "          [0.01597733, 0.01960784, 0.03471201],\n",
       "          [0.01597733, 0.01960784, 0.03471201],\n",
       "          ...,\n",
       "          [0.29683337, 0.33661523, 0.38290322],\n",
       "          [0.30085737, 0.34007305, 0.38654977],\n",
       "          [0.3092218 , 0.3484375 , 0.3949142 ]],\n",
       " \n",
       "         [[0.01821385, 0.01960784, 0.03023897],\n",
       "          [0.01821385, 0.01960784, 0.03023897],\n",
       "          [0.01821385, 0.01960784, 0.03023897],\n",
       "          ...,\n",
       "          [0.30710736, 0.35123998, 0.39160466],\n",
       "          [0.30344334, 0.34265903, 0.38466272],\n",
       "          [0.30474877, 0.34396446, 0.38596815]],\n",
       " \n",
       "         [[0.01960784, 0.01960784, 0.02745098],\n",
       "          [0.01960784, 0.01960784, 0.02745098],\n",
       "          [0.01960784, 0.01960784, 0.02745098],\n",
       "          ...,\n",
       "          [0.31351104, 0.3603554 , 0.39702818],\n",
       "          [0.30505514, 0.34427083, 0.3834865 ],\n",
       "          [0.3019608 , 0.34117648, 0.38039216]]],\n",
       " \n",
       " \n",
       "        [[[0.6374033 , 0.61646944, 0.5609241 ],\n",
       "          [0.610701  , 0.60488856, 0.58574504],\n",
       "          [0.62646866, 0.6279249 , 0.6386805 ],\n",
       "          ...,\n",
       "          [0.57498753, 0.5632228 , 0.5982431 ],\n",
       "          [0.56453544, 0.55277073, 0.5868394 ],\n",
       "          [0.5615531 , 0.55260706, 0.57442075]],\n",
       " \n",
       "         [[0.6311447 , 0.6126178 , 0.58671683],\n",
       "          [0.63210785, 0.62301815, 0.616547  ],\n",
       "          [0.63255495, 0.63135433, 0.6385972 ],\n",
       "          ...,\n",
       "          [0.5672239 , 0.5558699 , 0.5859557 ],\n",
       "          [0.57179934, 0.56003463, 0.5941033 ],\n",
       "          [0.5690037 , 0.55933094, 0.58259803]],\n",
       " \n",
       "         [[0.64465857, 0.618233  , 0.6422421 ],\n",
       "          [0.6394847 , 0.62088794, 0.63411075],\n",
       "          [0.63037205, 0.6223451 , 0.62854433],\n",
       "          ...,\n",
       "          [0.57182425, 0.56165266, 0.5859174 ],\n",
       "          [0.5786401 , 0.5668754 , 0.5986271 ],\n",
       "          [0.56233054, 0.55056584, 0.5813869 ]],\n",
       " \n",
       "         ...,\n",
       " \n",
       "         [[0.13149127, 0.17308229, 0.16528608],\n",
       "          [0.14155656, 0.16164216, 0.1521695 ],\n",
       "          [0.15737018, 0.15268268, 0.14216453],\n",
       "          ...,\n",
       "          [0.03163967, 0.01031614, 0.0769828 ],\n",
       "          [0.00771389, 0.01433153, 0.06469918],\n",
       "          [0.04978937, 0.04415211, 0.08839231]],\n",
       " \n",
       "         [[0.02399759, 0.04936523, 0.09049767],\n",
       "          [0.01833735, 0.02483245, 0.05356062],\n",
       "          [0.04560643, 0.03632334, 0.05710784],\n",
       "          ...,\n",
       "          [0.03099341, 0.01085229, 0.07633655],\n",
       "          [0.01338657, 0.02091376, 0.0712814 ],\n",
       "          [0.0295257 , 0.02552562, 0.06976581]],\n",
       " \n",
       "         [[0.04697265, 0.05855067, 0.12200042],\n",
       "          [0.02682483, 0.02210669, 0.07301719],\n",
       "          [0.04932598, 0.02547775, 0.06502662],\n",
       "          ...,\n",
       "          [0.03495711, 0.02093961, 0.08388481],\n",
       "          [0.01031614, 0.02476831, 0.07043122],\n",
       "          [0.01758578, 0.01773897, 0.05122549]]],\n",
       " \n",
       " \n",
       "        ...,\n",
       " \n",
       " \n",
       "        [[[0.5447426 , 0.50944847, 0.3800367 ],\n",
       "          [0.53496474, 0.5095971 , 0.38349417],\n",
       "          [0.5220131 , 0.49689054, 0.37617978],\n",
       "          ...,\n",
       "          [0.5154641 , 0.4903416 , 0.38519454],\n",
       "          [0.5220945 , 0.49856508, 0.3966043 ],\n",
       "          [0.50720286, 0.48367345, 0.38171268]],\n",
       " \n",
       "         [[0.5377374 , 0.5024433 , 0.37303156],\n",
       "          [0.53167653, 0.50630885, 0.38020593],\n",
       "          [0.5167892 , 0.49166667, 0.37095588],\n",
       "          ...,\n",
       "          [0.48783222, 0.46270967, 0.3575626 ],\n",
       "          [0.49440846, 0.47087905, 0.36891827],\n",
       "          [0.49405205, 0.47052264, 0.36856186]],\n",
       " \n",
       "         [[0.5336931 , 0.49839896, 0.3689872 ],\n",
       "          [0.53307366, 0.507706  , 0.38160303],\n",
       "          [0.5172093 , 0.49208674, 0.37137595],\n",
       "          ...,\n",
       "          [0.47625852, 0.45113596, 0.3459889 ],\n",
       "          [0.49682832, 0.4732989 , 0.37133813],\n",
       "          [0.5072146 , 0.4836852 , 0.3817244 ]],\n",
       " \n",
       "         ...,\n",
       " \n",
       "         [[0.4544508 , 0.4269998 , 0.31534976],\n",
       "          [0.4681672 , 0.43409854, 0.32037306],\n",
       "          [0.4859593 , 0.4380426 , 0.32541767],\n",
       "          ...,\n",
       "          [0.37591144, 0.32885262, 0.23939185],\n",
       "          [0.3885096 , 0.34145078, 0.25517625],\n",
       "          [0.40207544, 0.35501662, 0.2687421 ]],\n",
       " \n",
       "         [[0.45428923, 0.42683825, 0.3168598 ],\n",
       "          [0.4721481 , 0.43250877, 0.32208443],\n",
       "          [0.48553923, 0.43762255, 0.32230535],\n",
       "          ...,\n",
       "          [0.37487745, 0.32781863, 0.23835784],\n",
       "          [0.3867647 , 0.33970588, 0.25343138],\n",
       "          [0.40281862, 0.3557598 , 0.2694853 ]],\n",
       " \n",
       "         [[0.45695922, 0.42950824, 0.3197043 ],\n",
       "          [0.46953723, 0.42885095, 0.31904703],\n",
       "          [0.48182446, 0.43390778, 0.31785387],\n",
       "          ...,\n",
       "          [0.37487745, 0.32781863, 0.23835784],\n",
       "          [0.3867647 , 0.33970588, 0.25343138],\n",
       "          [0.40281862, 0.3557598 , 0.2694853 ]]],\n",
       " \n",
       " \n",
       "        [[[0.79607844, 0.8980392 , 0.9882353 ],\n",
       "          [0.79607844, 0.8980392 , 0.9882353 ],\n",
       "          [0.79607844, 0.8980392 , 0.9882353 ],\n",
       "          ...,\n",
       "          [0.76862746, 0.8627451 , 0.95686275],\n",
       "          [0.7678462 , 0.86196387, 0.9560815 ],\n",
       "          [0.7647059 , 0.85882354, 0.9529412 ]],\n",
       " \n",
       "         [[0.79607844, 0.8980392 , 0.9882353 ],\n",
       "          [0.79607844, 0.8980392 , 0.9882353 ],\n",
       "          [0.79607844, 0.8980392 , 0.9882353 ],\n",
       "          ...,\n",
       "          [0.76862746, 0.8627451 , 0.95686275],\n",
       "          [0.7678462 , 0.86196387, 0.9560815 ],\n",
       "          [0.7647059 , 0.85882354, 0.9529412 ]],\n",
       " \n",
       "         [[0.79607844, 0.8980392 , 0.9882353 ],\n",
       "          [0.79607844, 0.8980392 , 0.9882353 ],\n",
       "          [0.79607844, 0.8980392 , 0.9882353 ],\n",
       "          ...,\n",
       "          [0.77172184, 0.8627451 , 0.9553156 ],\n",
       "          [0.7712488 , 0.8622721 , 0.95484257],\n",
       "          [0.7693474 , 0.8603707 , 0.9529412 ]],\n",
       " \n",
       "         ...,\n",
       " \n",
       "         [[0.8117647 , 0.848606  , 0.8635723 ],\n",
       "          [0.8117647 , 0.848606  , 0.8635723 ],\n",
       "          [0.8117647 , 0.848606  , 0.8635723 ],\n",
       "          ...,\n",
       "          [0.30808243, 0.33161184, 0.3290077 ],\n",
       "          [0.3305685 , 0.3540979 , 0.34625477],\n",
       "          [0.30369177, 0.3272212 , 0.31937808]],\n",
       " \n",
       "         [[0.8117647 , 0.84705883, 0.8666667 ],\n",
       "          [0.8117647 , 0.84705883, 0.8666667 ],\n",
       "          [0.8117647 , 0.84705883, 0.8666667 ],\n",
       "          ...,\n",
       "          [0.23048593, 0.25401533, 0.25141117],\n",
       "          [0.28254154, 0.30607095, 0.29822782],\n",
       "          [0.2744945 , 0.2980239 , 0.29018077]],\n",
       " \n",
       "         [[0.8117647 , 0.84705883, 0.8666667 ],\n",
       "          [0.8117647 , 0.84705883, 0.8666667 ],\n",
       "          [0.8117647 , 0.84705883, 0.8666667 ],\n",
       "          ...,\n",
       "          [0.13976716, 0.16329657, 0.16069241],\n",
       "          [0.21403186, 0.23756127, 0.22971813],\n",
       "          [0.3019608 , 0.3254902 , 0.31764707]]],\n",
       " \n",
       " \n",
       "        [[[0.09215686, 0.10392157, 0.02941176],\n",
       "          [0.09411765, 0.10588235, 0.02352941],\n",
       "          [0.09344362, 0.10520833, 0.02285539],\n",
       "          ...,\n",
       "          [0.7607843 , 0.5882353 , 0.        ],\n",
       "          [0.7604473 , 0.5878983 , 0.        ],\n",
       "          [0.7607843 , 0.5882353 , 0.        ]],\n",
       " \n",
       "         [[0.09411765, 0.10588235, 0.03137255],\n",
       "          [0.09411765, 0.10588235, 0.02352941],\n",
       "          [0.09411765, 0.10588235, 0.02352941],\n",
       "          ...,\n",
       "          [0.76375616, 0.5912071 , 0.        ],\n",
       "          [0.76179534, 0.58924633, 0.        ],\n",
       "          [0.75686276, 0.58431375, 0.        ]],\n",
       " \n",
       "         [[0.09803922, 0.10980392, 0.03529412],\n",
       "          [0.09411765, 0.10588235, 0.02352941],\n",
       "          [0.09411765, 0.10588235, 0.02352941],\n",
       "          ...,\n",
       "          [0.7585478 , 0.5859988 , 0.        ],\n",
       "          [0.7585478 , 0.5859988 , 0.        ],\n",
       "          [0.7588235 , 0.5862745 , 0.        ]],\n",
       " \n",
       "         ...,\n",
       " \n",
       "         [[0.3879902 , 0.3509804 , 0.04457721],\n",
       "          [0.44405636, 0.3827206 , 0.1541054 ],\n",
       "          [0.4748468 , 0.40260416, 0.16222426],\n",
       "          ...,\n",
       "          [0.09188113, 0.08011642, 0.00560662],\n",
       "          [0.10615809, 0.08655024, 0.01204044],\n",
       "          [0.1179228 , 0.09831495, 0.01988358]],\n",
       " \n",
       "         [[0.37120098, 0.35719976, 0.07383578],\n",
       "          [0.4824755 , 0.41580883, 0.10860907],\n",
       "          [0.55735296, 0.46501225, 0.15983456],\n",
       "          ...,\n",
       "          [0.08817402, 0.07640931, 0.00784314],\n",
       "          [0.10689338, 0.08728554, 0.01277573],\n",
       "          [0.1166973 , 0.09708946, 0.01865809]],\n",
       " \n",
       "         [[0.17735907, 0.2171875 , 0.00952819],\n",
       "          [0.2870098 , 0.3101103 , 0.02760417],\n",
       "          [0.40401348, 0.3977635 , 0.11026348],\n",
       "          ...,\n",
       "          [0.0908701 , 0.07910539, 0.01243873],\n",
       "          [0.1091299 , 0.08952206, 0.01501225],\n",
       "          [0.11534926, 0.09574142, 0.01731005]]]], dtype=float32),\n",
       " array([[0., 0., 0., 0., 0., 0., 0., 1., 0., 0., 0., 0., 0., 0.],\n",
       "        [0., 0., 0., 0., 0., 0., 0., 0., 0., 1., 0., 0., 0., 0.],\n",
       "        [0., 0., 1., 0., 0., 0., 0., 0., 0., 0., 0., 0., 0., 0.],\n",
       "        [0., 0., 0., 0., 1., 0., 0., 0., 0., 0., 0., 0., 0., 0.],\n",
       "        [0., 0., 0., 0., 0., 0., 0., 0., 0., 0., 0., 1., 0., 0.],\n",
       "        [0., 0., 0., 0., 0., 0., 1., 0., 0., 0., 0., 0., 0., 0.],\n",
       "        [0., 0., 0., 0., 0., 0., 0., 0., 1., 0., 0., 0., 0., 0.],\n",
       "        [0., 0., 0., 0., 0., 0., 0., 1., 0., 0., 0., 0., 0., 0.],\n",
       "        [0., 0., 0., 0., 0., 1., 0., 0., 0., 0., 0., 0., 0., 0.],\n",
       "        [0., 0., 1., 0., 0., 0., 0., 0., 0., 0., 0., 0., 0., 0.],\n",
       "        [0., 0., 0., 0., 1., 0., 0., 0., 0., 0., 0., 0., 0., 0.],\n",
       "        [0., 0., 0., 0., 1., 0., 0., 0., 0., 0., 0., 0., 0., 0.],\n",
       "        [0., 0., 0., 1., 0., 0., 0., 0., 0., 0., 0., 0., 0., 0.],\n",
       "        [0., 0., 0., 0., 0., 1., 0., 0., 0., 0., 0., 0., 0., 0.],\n",
       "        [0., 0., 0., 0., 0., 0., 1., 0., 0., 0., 0., 0., 0., 0.],\n",
       "        [0., 0., 0., 0., 0., 0., 0., 0., 0., 0., 0., 1., 0., 0.],\n",
       "        [0., 0., 0., 0., 0., 0., 1., 0., 0., 0., 0., 0., 0., 0.],\n",
       "        [0., 1., 0., 0., 0., 0., 0., 0., 0., 0., 0., 0., 0., 0.],\n",
       "        [0., 0., 0., 0., 0., 1., 0., 0., 0., 0., 0., 0., 0., 0.],\n",
       "        [0., 0., 0., 0., 0., 1., 0., 0., 0., 0., 0., 0., 0., 0.],\n",
       "        [0., 0., 0., 0., 0., 0., 0., 0., 0., 0., 0., 1., 0., 0.],\n",
       "        [0., 0., 0., 0., 0., 0., 0., 0., 0., 1., 0., 0., 0., 0.],\n",
       "        [0., 0., 0., 0., 0., 0., 1., 0., 0., 0., 0., 0., 0., 0.],\n",
       "        [0., 1., 0., 0., 0., 0., 0., 0., 0., 0., 0., 0., 0., 0.],\n",
       "        [0., 0., 0., 0., 0., 0., 0., 1., 0., 0., 0., 0., 0., 0.],\n",
       "        [0., 0., 0., 0., 0., 0., 1., 0., 0., 0., 0., 0., 0., 0.],\n",
       "        [0., 1., 0., 0., 0., 0., 0., 0., 0., 0., 0., 0., 0., 0.],\n",
       "        [0., 0., 0., 1., 0., 0., 0., 0., 0., 0., 0., 0., 0., 0.],\n",
       "        [0., 1., 0., 0., 0., 0., 0., 0., 0., 0., 0., 0., 0., 0.],\n",
       "        [0., 0., 0., 0., 0., 1., 0., 0., 0., 0., 0., 0., 0., 0.],\n",
       "        [0., 0., 0., 0., 0., 0., 0., 0., 0., 1., 0., 0., 0., 0.],\n",
       "        [0., 1., 0., 0., 0., 0., 0., 0., 0., 0., 0., 0., 0., 0.]],\n",
       "       dtype=float32))"
      ]
     },
     "execution_count": 59,
     "metadata": {},
     "output_type": "execute_result"
    }
   ],
   "source": [
    "data.as_numpy_iterator().next() "
   ]
  },
  {
   "cell_type": "markdown",
   "id": "111598df-efeb-4b74-92e8-121de475b246",
   "metadata": {
    "jp-MarkdownHeadingCollapsed": true,
    "tags": []
   },
   "source": [
    "# 5. Split Data"
   ]
  },
  {
   "cell_type": "code",
   "execution_count": 62,
   "id": "168514cc-38fb-49ee-b2cd-2b110ffb7c71",
   "metadata": {
    "tags": []
   },
   "outputs": [
    {
     "name": "stdout",
     "output_type": "stream",
     "text": [
      "Train seti sınıf örnek sayıları:\n",
      "Counter({'fogsmog': 20, 'rime': 19, 'snow': 17, 'glaze': 17, 'hail': 14, 'rain': 14, 'frost': 12, 'lightning': 11, 'sunrise': 10, 'dew': 7, 'shine': 7, 'rainbow': 6, 'cloudy': 3})\n",
      "\n",
      "Test seti sınıf örnek sayıları:\n",
      "Counter({'hail': 4, 'rime': 4, 'glaze': 3, 'rain': 3, 'dew': 2, 'cloudy': 1, 'lightning': 1, 'fogsmog': 1, 'frost': 1, 'sunrise': 1, 'shine': 1})\n"
     ]
    }
   ],
   "source": [
    "from collections import Counter\n",
    "class_labels = ['cloudy', 'dew', 'fogsmog', 'frost', 'glaze', 'hail', 'lightning', 'rain', 'rainbow', 'rime', 'shine', 'snow', 'sunrise']\n",
    "\n",
    "# Train setindeki sınıfların örnek sayıları\n",
    "train_class_counts = Counter([class_labels[np.argmax(label.numpy())] for _, label in train])\n",
    "\n",
    "# Test setindeki sınıfların örnek sayıları\n",
    "test_class_counts = Counter([class_labels[np.argmax(label.numpy())] for _, label in test])\n",
    "\n",
    "print(\"Train seti sınıf örnek sayıları:\")\n",
    "print(train_class_counts)\n",
    "\n",
    "print(\"\\nTest seti sınıf örnek sayıları:\")\n",
    "print(test_class_counts)\n"
   ]
  },
  {
   "cell_type": "markdown",
   "id": "ebd2bd01-24ec-4d4c-a358-6d59a5070025",
   "metadata": {
    "jp-MarkdownHeadingCollapsed": true,
    "tags": []
   },
   "source": [
    "# 6. Data Augmentation"
   ]
  },
  {
   "cell_type": "code",
   "execution_count": null,
   "id": "218b4fc6-aaf4-4981-997a-0be7afd21cbd",
   "metadata": {},
   "outputs": [],
   "source": [
    "from tensorflow.keras.preprocessing.image import ImageDataGenerator"
   ]
  },
  {
   "cell_type": "code",
   "execution_count": null,
   "id": "58252fbf-c886-4d33-9fae-e09ea3322f52",
   "metadata": {},
   "outputs": [],
   "source": [
    "# Veri artırma işlemleri için ImageDataGenerator oluştur\n",
    "datagen = ImageDataGenerator(\n",
    "    rotation_range=20,\n",
    "    horizontal_flip=0.5,\n",
    "    vertical_flip=0.005,\n",
    "    channel_shift_range=0.10,\n",
    "    brightness_range=(0.3, 0.3),\n",
    "    #rescale=1./255,\n",
    "    samplewise_center=True,\n",
    "    samplewise_std_normalization=True\n",
    ")\n",
    "\n",
    "# Örnek bir görüntü yükleyin (bu, sizin gerçek görüntü yüklemeye uyarlamanız gereken bir yerdir)\n",
    "image_path = 'data/snow/0853.jpg'\n",
    "original_image = cv2.imread(image_path)\n",
    "original_image = cv2.cvtColor(original_image, cv2.COLOR_BGR2RGB)\n",
    "\n",
    "# Görüntüyü ekrana basmadan önce normalize et\n",
    "original_image_normalized = original_image / 255.0\n",
    "\n",
    "# Görüntüyü yeniden boyutlandır (ImageDataGenerator beklediği giriş boyutuna uygun olarak)\n",
    "original_image_resized = tf.image.resize(original_image_normalized, (256, 256))\n",
    "\n",
    "# Artırılmış görüntüyü oluştur\n",
    "augmented_images = datagen.flow(tf.expand_dims(original_image_resized, axis=0), batch_size=1)\n",
    "augmented_image = augmented_images.next()[0]\n",
    "\n",
    "# Orijinal ve artırılmış görüntüyü göster\n",
    "plt.subplot(1, 2, 1)\n",
    "plt.imshow(original_image_resized.numpy())\n",
    "plt.title('Orijinal Görüntü')\n",
    "\n",
    "plt.subplot(1, 2, 2)\n",
    "plt.imshow(augmented_image)\n",
    "plt.title('Artırılmış Görüntü')\n",
    "\n",
    "plt.show()\n"
   ]
  },
  {
   "cell_type": "markdown",
   "id": "4ed83523-2e4e-4c8d-92b8-d5a181e9d96f",
   "metadata": {
    "tags": []
   },
   "source": [
    "# 7. CNN Model"
   ]
  },
  {
   "cell_type": "code",
   "execution_count": 90,
   "id": "3dc1720c-d519-48f9-95d3-7b11a509d56b",
   "metadata": {
    "tags": []
   },
   "outputs": [],
   "source": [
    "from tensorflow.keras.models import Sequential\n",
    "from tensorflow.keras.layers import Conv2D, MaxPooling2D, Dense, Flatten, Dropout,BatchNormalization"
   ]
  },
  {
   "cell_type": "code",
   "execution_count": 91,
   "id": "064c06d9-c76b-4590-bd38-570e66476685",
   "metadata": {
    "tags": []
   },
   "outputs": [],
   "source": [
    "num_classes = 13 # Toplam sınıf sayısı"
   ]
  },
  {
   "cell_type": "code",
   "execution_count": 107,
   "id": "f4a11724-3999-4fad-9843-1fa1d85d7809",
   "metadata": {
    "tags": []
   },
   "outputs": [],
   "source": [
    "from sklearn.model_selection import StratifiedKFold\n",
    "from tensorflow.keras.models import Sequential\n",
    "from tensorflow.keras.layers import BatchNormalization, Conv2D, MaxPooling2D, Dropout, Flatten, Dense\n",
    "\n",
    "model = Sequential()\n",
    "\n",
    "model.add(BatchNormalization(input_shape=(256, 256, 3)))\n",
    "\n",
    "model.add(Conv2D(32, (3, 3), 1, activation='relu'))\n",
    "model.add(MaxPooling2D())\n",
    "model.add(Dropout(0.25))\n",
    "\n",
    "model.add(Conv2D(64, (3, 3), 1, activation='relu'))\n",
    "model.add(MaxPooling2D())\n",
    "model.add(Dropout(0.50))\n",
    "\n",
    "model.add(Flatten())\n",
    "model.add(Dense(64, activation='relu'))\n",
    "model.add(Dropout(0.5))\n",
    "\n",
    "model.add(Dense(num_classes, activation='softmax'))"
   ]
  },
  {
   "cell_type": "code",
   "execution_count": null,
   "id": "175e3544-22f9-40b6-84f9-79cb8d3d23f9",
   "metadata": {},
   "outputs": [],
   "source": [
    "model.compile('adam', loss=tf.losses.CategoricalCrossentropy(), metrics=['accuracy'])"
   ]
  },
  {
   "cell_type": "code",
   "execution_count": null,
   "id": "8c7cc7bf-70e8-47d0-864a-52a64c49a5eb",
   "metadata": {},
   "outputs": [],
   "source": [
    "model.summary()"
   ]
  },
  {
   "cell_type": "markdown",
   "id": "258a4c1f-136c-48d4-b15b-080dafc92ee5",
   "metadata": {
    "tags": []
   },
   "source": [
    "# 8. Train"
   ]
  },
  {
   "cell_type": "code",
   "execution_count": null,
   "id": "6cdef95d-eb2a-40de-9ce4-babebe4180f7",
   "metadata": {},
   "outputs": [],
   "source": [
    "from tensorflow.keras.callbacks import EarlyStopping\n",
    "from tensorflow.keras.preprocessing.image import ImageDataGenerator"
   ]
  },
  {
   "cell_type": "code",
   "execution_count": null,
   "id": "61e4af54-d428-4429-aa7a-9064e6fc4f81",
   "metadata": {},
   "outputs": [],
   "source": [
    "logdir='logs'"
   ]
  },
  {
   "cell_type": "code",
   "execution_count": null,
   "id": "3fa6dfb4-054b-43a8-a7f0-5d94b63d7d1d",
   "metadata": {},
   "outputs": [],
   "source": [
    "tensorboard_callback = tf.keras.callbacks.TensorBoard(log_dir=logdir)"
   ]
  },
  {
   "cell_type": "code",
   "execution_count": null,
   "id": "6babb50a-a4c7-49f7-85a9-9883e9247ab6",
   "metadata": {},
   "outputs": [],
   "source": [
    "early_stopping = EarlyStopping(monitor='val_loss', patience=5, restore_best_weights=True)"
   ]
  },
  {
   "cell_type": "code",
   "execution_count": null,
   "id": "3c829403-aee8-4782-b723-6c0556ff6d6c",
   "metadata": {},
   "outputs": [],
   "source": [
    "X_train_fold, X_val_fold = X_train[train_index], X_train[val_index]\n",
    "y_train_fold, y_val_fold = y_train[train_index], y_train[val_index]\n",
    "\n",
    "hist = model.fit(X_train_fold, y_train_fold, epochs=20, batch_size=32, validation_data=(X_val_fold, y_val_fold),callbacks=[tensorboard_callback, early_stopping])"
   ]
  },
  {
   "cell_type": "code",
   "execution_count": null,
   "id": "637010fa-652f-46ef-8ca4-87b2c7fb9669",
   "metadata": {},
   "outputs": [],
   "source": [
    "#hist = model.fit(train, epochs=30, validation_data=val,  callbacks=[tensorboard_callback, early_stopping])"
   ]
  },
  {
   "cell_type": "markdown",
   "id": "4f20c2b9-7098-4c49-b232-e3111138c891",
   "metadata": {
    "tags": []
   },
   "source": [
    "# 9. Plot Performance"
   ]
  },
  {
   "cell_type": "code",
   "execution_count": null,
   "id": "816c4851-cfc0-47f7-bcaf-665103e0fac6",
   "metadata": {},
   "outputs": [],
   "source": [
    "fig = plt.figure()\n",
    "plt.plot(hist.history['loss'], color='teal', label='loss')\n",
    "plt.plot(hist.history['val_loss'], color='orange', label='val_loss')\n",
    "fig.suptitle('Loss', fontsize=20)\n",
    "plt.legend(loc=\"upper left\")\n",
    "\n",
    "plt.plot(hist.history['accuracy'], color='teal', label='accuracy')\n",
    "plt.plot(hist.history['val_accuracy'], color='orange', label='val_accuracy')\n",
    "fig.suptitle('Accuracy', fontsize=20)\n",
    "plt.legend(loc=\"upper right\")\n",
    "plt.show()"
   ]
  },
  {
   "cell_type": "markdown",
   "id": "169ba1ad-c039-4ddc-b9ae-495bbdd80de9",
   "metadata": {
    "tags": []
   },
   "source": [
    "# 10. Evaluate"
   ]
  },
  {
   "cell_type": "code",
   "execution_count": null,
   "id": "bfc78201-edf9-45eb-8040-12640e8a3612",
   "metadata": {},
   "outputs": [],
   "source": [
    "from tensorflow.keras.metrics import Precision, Recall, CategoricalAccuracy\n",
    "from tensorflow.keras.utils import to_categorical\n",
    "from tensorflow.keras.metrics import Accuracy"
   ]
  },
  {
   "cell_type": "code",
   "execution_count": null,
   "id": "52dd0833-1045-4d4b-828a-782e36b0dd91",
   "metadata": {},
   "outputs": [],
   "source": [
    "pre = Precision()\n",
    "re = Recall()\n",
    "acc = CategoricalAccuracy()"
   ]
  },
  {
   "cell_type": "code",
   "execution_count": null,
   "id": "5b3acb25-93ec-490f-9aaa-99927413d631",
   "metadata": {},
   "outputs": [],
   "source": [
    "test = data.skip(train_size + val_size).take(test_size)"
   ]
  },
  {
   "cell_type": "code",
   "execution_count": null,
   "id": "97b391c8-c566-474c-86f2-5e7238421814",
   "metadata": {},
   "outputs": [],
   "source": [
    "accuracy_metric = Accuracy()\n",
    "\n",
    "for batch in test.as_numpy_iterator(): \n",
    "    X, y = batch\n",
    "    yhat = model.predict(X)\n",
    "    acc.update_state(y, yhat)\n",
    "    accuracy_metric.update_state(tf.argmax(y, axis=1), tf.argmax(yhat, axis=1))\n",
    "\n",
    "\n",
    "test_accuracy = accuracy_metric.result().numpy()\n",
    "print(f'Test Accuracy: {test_accuracy}')"
   ]
  },
  {
   "cell_type": "markdown",
   "id": "e4f912fb-68d7-4641-8cfa-3a4672f05c41",
   "metadata": {
    "tags": []
   },
   "source": [
    "# 11. Test"
   ]
  },
  {
   "cell_type": "code",
   "execution_count": null,
   "id": "8d572a1c-b8c8-4021-acbd-f8ae08d5fb36",
   "metadata": {},
   "outputs": [],
   "source": [
    "# Görüntüyü okuma ve uygun formatta yükleme\n",
    "img = cv2.imread('data/cloudy/cloudy1.jpg')\n",
    "\n",
    "# Görüntü boş mu kontrolü\n",
    "if img is not None:\n",
    "    img = cv2.cvtColor(img, cv2.COLOR_BGR2RGB)  # OpenCV, görüntüyü BGR formatında okur, bu nedenle RGB'ye dönüştürüyoruz\n",
    "\n",
    "    # Görüntüyü gösterme\n",
    "    plt.imshow(img)\n",
    "    plt.show()\n",
    "else:\n",
    "    print(\"Görüntü yüklenemedi.\")"
   ]
  },
  {
   "cell_type": "code",
   "execution_count": null,
   "id": "ab81f9ec-ac8d-4b75-b908-480364a8b55f",
   "metadata": {},
   "outputs": [],
   "source": [
    "resize = tf.image.resize(img, (256,256))\n",
    "plt.imshow(resize.numpy().astype(int))\n",
    "plt.show()"
   ]
  },
  {
   "cell_type": "code",
   "execution_count": null,
   "id": "2601ccc1-19c4-4e67-aef9-ed282cc48da5",
   "metadata": {},
   "outputs": [],
   "source": [
    "yhat = model.predict(np.expand_dims(resize/255, 0))"
   ]
  },
  {
   "cell_type": "code",
   "execution_count": null,
   "id": "3117ea55-c847-499b-a743-ff0fbcbeca96",
   "metadata": {},
   "outputs": [],
   "source": [
    "yhat"
   ]
  },
  {
   "cell_type": "code",
   "execution_count": null,
   "id": "01e223d0-3a84-4d15-b488-159d1611cca4",
   "metadata": {},
   "outputs": [],
   "source": [
    "img_path = 'data/cloudy/cloudy1.jpg'\n",
    "img = cv2.imread(img_path)\n",
    "\n",
    "if img is not None:\n",
    "    img = cv2.cvtColor(img, cv2.COLOR_BGR2RGB)\n",
    "    resize = tf.image.resize(img, (256, 256))\n",
    "    resize = np.expand_dims(resize / 255, 0)  \n",
    "\n",
    "else:\n",
    "    print(f\"Error: Unable to read the image at {img_path}\")\n"
   ]
  },
  {
   "cell_type": "code",
   "execution_count": null,
   "id": "1fa2a9b5-3d07-4807-8b45-6ae078fde32f",
   "metadata": {},
   "outputs": [],
   "source": [
    "class_names = ['cloudy', 'dew', 'fogsmog', 'frost', 'glaze', 'hail', 'lightning', 'rain', 'rainbow', 'rime', 'shine', 'snow', 'sunrise']\n",
    "predictions = model.predict(resize)\n",
    "predicted_class = np.argmax(predictions, axis=-1)\n",
    "\n",
    "# Print some debug information\n",
    "print(f'Predicted class indices: {predicted_class}')\n",
    "if 0 <= predicted_class[0] < len(class_names):\n",
    "    predicted_class_label = class_names[predicted_class[0]]\n",
    "    print(f'Predicted class: {predicted_class_label}')\n",
    "else:\n",
    "    print('Error: Predicted class index is out of range.')\n",
    "\n",
    "# Print class probabilities\n",
    "for i, prob in enumerate(predictions[0]):\n",
    "    class_label = class_names[i]\n",
    "    print(f'Probability for class {class_label}: {prob}')\n"
   ]
  },
  {
   "cell_type": "markdown",
   "id": "1eb52d63-04ed-460f-8d25-e6657874d8ec",
   "metadata": {
    "tags": []
   },
   "source": [
    "# 12. Save Model"
   ]
  },
  {
   "cell_type": "code",
   "execution_count": null,
   "id": "90680079-5c81-450f-a4c1-83fb6b9e6cb0",
   "metadata": {},
   "outputs": [],
   "source": [
    "from tensorflow.keras.models import load_model"
   ]
  },
  {
   "cell_type": "code",
   "execution_count": null,
   "id": "07689677-d5b9-420d-bd2c-eccc72b87ec4",
   "metadata": {},
   "outputs": [],
   "source": [
    "model.save(os.path.join('models','weatherforecast18.h5'))"
   ]
  },
  {
   "cell_type": "code",
   "execution_count": null,
   "id": "e0428873-a0f1-43cf-85f6-28dd67189afe",
   "metadata": {},
   "outputs": [],
   "source": [
    "new_model = load_model('D:\\ImageClassification\\models\\weatherforecast18.h5')"
   ]
  },
  {
   "cell_type": "code",
   "execution_count": null,
   "id": "b002c7e8-b453-400e-9486-1bcca09192a6",
   "metadata": {},
   "outputs": [],
   "source": [
    "model.load_weights('D:\\ImageClassification\\models\\weatherforecast18.h5')"
   ]
  },
  {
   "cell_type": "markdown",
   "id": "1fd8617a-447e-49f3-9275-d7cee4236be2",
   "metadata": {
    "tags": []
   },
   "source": [
    "# 13. Confussion Matrix"
   ]
  },
  {
   "cell_type": "code",
   "execution_count": null,
   "id": "09ec5e23-6d47-41ba-a14a-813be788ce52",
   "metadata": {},
   "outputs": [],
   "source": [
    "pip install -U scikit-learn scipy matplotlib"
   ]
  },
  {
   "cell_type": "code",
   "execution_count": null,
   "id": "c3e58d05-f1c4-4b9d-97a9-87b66db4ce98",
   "metadata": {},
   "outputs": [],
   "source": [
    "!pip install seaborn"
   ]
  },
  {
   "cell_type": "code",
   "execution_count": null,
   "id": "98ef372d-1978-4f56-ac3d-7427bc3f6da8",
   "metadata": {},
   "outputs": [],
   "source": [
    "# Confusion Matrix oluşturma ve çizme\n",
    "from sklearn.metrics import confusion_matrix\n",
    "import seaborn as sns\n",
    "import pandas as pd\n",
    "\n",
    "# Test veri seti üzerinde tahminlerin ve gerçek etiketlerin toplanması\n",
    "y_true = []\n",
    "y_pred = []\n",
    "\n",
    "for batch in test.as_numpy_iterator():\n",
    "    X, y = batch\n",
    "    yhat = model.predict(X)\n",
    "    \n",
    "    # Sınıf indekslerini listeler içinde ekleyin\n",
    "    y_true.append([np.argmax(label) for label in y])\n",
    "    y_pred.append([np.argmax(pred) for pred in yhat])\n",
    "\n",
    "# Listeleri numpy dizilerine çevirme\n",
    "y_true = np.concatenate(y_true)\n",
    "y_pred = np.concatenate(y_pred)\n",
    "\n",
    "# Confusion Matrix oluşturma\n",
    "conf_mat = confusion_matrix(y_true, y_pred)\n",
    "\n",
    "# Sınıf isimleri\n",
    "class_names = ['cloudy', 'dew', 'fogsmog', 'frost', 'glaze', 'hail', 'lightning', 'rain', 'rainbow', 'rime', 'shine', 'snow', 'sunrise']\n",
    "\n",
    "# Pandas DataFrame'e dönüştürme\n",
    "conf_mat_df = pd.DataFrame(conf_mat, index=class_names, columns=class_names)\n",
    "\n",
    "# Confusion Matrix'i çizme\n",
    "plt.figure(figsize=(12, 10))\n",
    "sns.heatmap(conf_mat_df, annot=True, fmt='g', cmap='Blues', cbar_kws={'label': 'Count'})\n",
    "plt.title('Confusion Matrix')\n",
    "plt.xlabel('Predicted')\n",
    "plt.ylabel('True')\n",
    "plt.show()\n"
   ]
  }
 ],
 "metadata": {
  "kernelspec": {
   "display_name": "imageclasskernel",
   "language": "python",
   "name": "imageclasskernel"
  },
  "language_info": {
   "codemirror_mode": {
    "name": "ipython",
    "version": 3
   },
   "file_extension": ".py",
   "mimetype": "text/x-python",
   "name": "python",
   "nbconvert_exporter": "python",
   "pygments_lexer": "ipython3",
   "version": "3.7.9"
  }
 },
 "nbformat": 4,
 "nbformat_minor": 5
}
